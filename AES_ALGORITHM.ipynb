{
 "cells": [
  {
   "cell_type": "code",
   "execution_count": 1,
   "id": "a0f4c81b",
   "metadata": {},
   "outputs": [
    {
     "name": "stdout",
     "output_type": "stream",
     "text": [
      "ciphertext is: b'\\xe9\\xa6\\x8d\\xf3\\xd0\\xc2p\\xea\\xd3\\x1c\\xbf\\x93{\\xce_'\n",
      "Plaintext is: Welcome to TYIT\n"
     ]
    }
   ],
   "source": [
    "from Crypto.Cipher import AES\n",
    "key=b'Abc@)12[OklVDyfe'\n",
    "cipher=AES.new(key,AES.MODE_EAX)\n",
    "msg=\"Welcome to TYIT\".encode()\n",
    "nonce=cipher.nonce\n",
    "ct=cipher.encrypt(msg)\n",
    "print(\"ciphertext is:\",ct)\n",
    "cipher=AES.new(key,AES.MODE_EAX,nonce=nonce)\n",
    "pt=cipher.decrypt(ct)\n",
    "msg2=pt.decode()\n",
    "print(\"Plaintext is:\",msg2)"
   ]
  },
  {
   "cell_type": "code",
   "execution_count": null,
   "id": "73e60a83",
   "metadata": {},
   "outputs": [],
   "source": []
  }
 ],
 "metadata": {
  "kernelspec": {
   "display_name": "Python 3 (ipykernel)",
   "language": "python",
   "name": "python3"
  },
  "language_info": {
   "codemirror_mode": {
    "name": "ipython",
    "version": 3
   },
   "file_extension": ".py",
   "mimetype": "text/x-python",
   "name": "python",
   "nbconvert_exporter": "python",
   "pygments_lexer": "ipython3",
   "version": "3.11.4"
  }
 },
 "nbformat": 4,
 "nbformat_minor": 5
}
