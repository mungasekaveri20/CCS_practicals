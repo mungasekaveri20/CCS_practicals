{
 "cells": [
  {
   "cell_type": "code",
   "execution_count": 3,
   "id": "b91832b9",
   "metadata": {},
   "outputs": [
    {
     "name": "stdout",
     "output_type": "stream",
     "text": [
      "Enter the  prime number:7\n",
      "Enter the primitive Root:9\n",
      "Enter Private Key for A:2\n",
      "Enter Private Key for B:3\n",
      "A receive the public key is : 1\n",
      "B recieve the public key is : 4\n",
      "Secreat key is : 1\n"
     ]
    }
   ],
   "source": [
    "a=int(input(\"Enter the  prime number:\")) #23\n",
    "b=int(input(\"Enter the primitive Root:\")) #9\n",
    "\n",
    "p1=int(input(\"Enter Private Key for A:\")) #4\n",
    "p2=int(input(\"Enter Private Key for B:\"))  #3\n",
    "\n",
    "x=pow(b, p1, a)\n",
    " #x=9^4mod23\n",
    "\n",
    "y=pow(b,p2,a)\n",
    "  #y=9^3mod23\n",
    "\n",
    "print(\"A receive the public key is :\",y)\n",
    "print(\"B recieve the public key is :\",x)\n",
    "\n",
    "ka=pow(y,p1,a)\n",
    "kb=pow(x,p2,a)\n",
    "\n",
    "print(\"Secreat key is :\",ka)\n",
    "#print(\"Secreat key is \",kb)"
   ]
  },
  {
   "cell_type": "code",
   "execution_count": null,
   "id": "75001e0e",
   "metadata": {},
   "outputs": [],
   "source": []
  },
  {
   "cell_type": "code",
   "execution_count": null,
   "id": "daca29d7",
   "metadata": {},
   "outputs": [],
   "source": []
  }
 ],
 "metadata": {
  "kernelspec": {
   "display_name": "Python 3 (ipykernel)",
   "language": "python",
   "name": "python3"
  },
  "language_info": {
   "codemirror_mode": {
    "name": "ipython",
    "version": 3
   },
   "file_extension": ".py",
   "mimetype": "text/x-python",
   "name": "python",
   "nbconvert_exporter": "python",
   "pygments_lexer": "ipython3",
   "version": "3.11.4"
  }
 },
 "nbformat": 4,
 "nbformat_minor": 5
}
