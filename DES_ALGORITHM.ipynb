{
 "cells": [
  {
   "cell_type": "code",
   "execution_count": 1,
   "id": "600ee762",
   "metadata": {},
   "outputs": [
    {
     "name": "stdout",
     "output_type": "stream",
     "text": [
      "Enter a message: kaverimungase\n",
      "Cipher text: b\"\\xbbT\\xd18\\nc\\xea\\xf0\\xcf_\\x8c<'\"\n",
      "Plain text: kaverimungase\n"
     ]
    }
   ],
   "source": [
    "from Crypto.Cipher import DES\n",
    "from secrets import token_bytes\n",
    "key = token_bytes(8)\n",
    "def encrypt(msg):\n",
    "    cipher = DES.new(key, DES.MODE_EAX)\n",
    "    nonce = cipher.nonce\n",
    "    ciphertext, tag = cipher.encrypt_and_digest(msg.encode('ascii'))\n",
    "    return nonce, ciphertext, tag\n",
    "def decrypt(nonce, ciphertext, tag):\n",
    "    cipher = DES.new(key, DES.MODE_EAX, nonce=nonce)\n",
    "    plaintext = cipher.decrypt(ciphertext)\n",
    "    try:\n",
    "        cipher.verify(tag)\n",
    "        return plaintext.decode('ascii')\n",
    "    except:\n",
    "        return False\n",
    "nonce, ciphertext, tag = encrypt(input('Enter a message: '))\n",
    "plaintext = decrypt(nonce, ciphertext, tag)\n",
    "print(f'Cipher text: {ciphertext}')\n",
    "if not plaintext:\n",
    "    print('Message is corrupted!')\n",
    "else:\n",
    "    print(f'Plain text: {plaintext}')"
   ]
  },
  {
   "cell_type": "code",
   "execution_count": null,
   "id": "e44bd005",
   "metadata": {},
   "outputs": [],
   "source": []
  }
 ],
 "metadata": {
  "kernelspec": {
   "display_name": "Python 3 (ipykernel)",
   "language": "python",
   "name": "python3"
  },
  "language_info": {
   "codemirror_mode": {
    "name": "ipython",
    "version": 3
   },
   "file_extension": ".py",
   "mimetype": "text/x-python",
   "name": "python",
   "nbconvert_exporter": "python",
   "pygments_lexer": "ipython3",
   "version": "3.11.4"
  }
 },
 "nbformat": 4,
 "nbformat_minor": 5
}
