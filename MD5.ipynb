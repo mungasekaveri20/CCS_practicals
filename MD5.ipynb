{
 "cells": [
  {
   "cell_type": "code",
   "execution_count": 1,
   "id": "eae609df",
   "metadata": {},
   "outputs": [
    {
     "name": "stdout",
     "output_type": "stream",
     "text": [
      "Enter the string to hash: KAVERIMUBGASE\n",
      "The hexadecimal equivalent of hash is : 3b47c7faca05bbb7db8213dd407103fe\n",
      "sha1: 635ba38c9975f5db28396fa033d9bf54ff93c5dd\n"
     ]
    }
   ],
   "source": [
    "import hashlib\n",
    "# Take input from the user\n",
    "str = input(\"Enter the string to hash: \")\n",
    "# Hashing the input string using MD5\n",
    "r1 = hashlib.md5(str.encode())\n",
    "r2 = hashlib.sha1(str.encode()) \n",
    "print(\"The hexadecimal equivalent of hash is : \", end =\"\")\n",
    "print(r1.hexdigest())\n",
    "print(\"sha1:\",r2.hexdigest())"
   ]
  },
  {
   "cell_type": "code",
   "execution_count": null,
   "id": "c48e0ae3",
   "metadata": {},
   "outputs": [],
   "source": []
  }
 ],
 "metadata": {
  "kernelspec": {
   "display_name": "Python 3 (ipykernel)",
   "language": "python",
   "name": "python3"
  },
  "language_info": {
   "codemirror_mode": {
    "name": "ipython",
    "version": 3
   },
   "file_extension": ".py",
   "mimetype": "text/x-python",
   "name": "python",
   "nbconvert_exporter": "python",
   "pygments_lexer": "ipython3",
   "version": "3.11.4"
  }
 },
 "nbformat": 4,
 "nbformat_minor": 5
}
