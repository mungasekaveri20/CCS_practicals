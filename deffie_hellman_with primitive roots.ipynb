{
 "cells": [
  {
   "cell_type": "code",
   "execution_count": null,
   "id": "e3bc4d57",
   "metadata": {},
   "outputs": [],
   "source": [
    "def is_primitive_root(g, p):\n",
    "    coprimes = {pow(g, k, p) for k in range(1, p)}\n",
    "    return len(coprimes) == p - 1\n",
    "\n",
    "def find_primitive_root(p):\n",
    "    for g in range(2, p):\n",
    "        if is_primitive_root(g, p):\n",
    "            return g\n",
    "    return None\n",
    "\n",
    "a = int(input(\"Enter the prime number: \"))  # 23\n",
    "b = find_primitive_root(a)  # Find primitive root for a\n",
    "print(f\"The primitive root modulo {a} is {b}\")\n",
    "\n",
    "p1 = int(input(\"Enter Private Key for A: \"))  # 4\n",
    "p2 = int(input(\"Enter Private Key for B: \"))  # 3\n",
    "\n",
    "x = pow(b, p1, a)  # x = b^p1 mod a\n",
    "y = pow(b, p2, a)  # y = b^p2 mod a\n",
    "\n",
    "print(\"A receive the public key is %d.\" % y)\n",
    "print(\"B recieve the public key is %d.\" % x)\n",
    "\n",
    "ka = pow(y, p1, a)  # ka = y^p1 mod a\n",
    "kb = pow(x, p2, a)  # kb = x^p2 mod a\n",
    "\n",
    "print(\"Secret key is %d\" % ka)\n",
    "#print(\"Secret key is %d\" % kb)"
   ]
  }
 ],
 "metadata": {
  "kernelspec": {
   "display_name": "Python 3 (ipykernel)",
   "language": "python",
   "name": "python3"
  },
  "language_info": {
   "codemirror_mode": {
    "name": "ipython",
    "version": 3
   },
   "file_extension": ".py",
   "mimetype": "text/x-python",
   "name": "python",
   "nbconvert_exporter": "python",
   "pygments_lexer": "ipython3",
   "version": "3.11.4"
  }
 },
 "nbformat": 4,
 "nbformat_minor": 5
}
